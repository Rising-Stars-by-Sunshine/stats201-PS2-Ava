{
  "nbformat": 4,
  "nbformat_minor": 0,
  "metadata": {
    "colab": {
      "provenance": []
    },
    "kernelspec": {
      "name": "python3",
      "display_name": "Python 3"
    },
    "language_info": {
      "name": "python"
    }
  },
  "cells": [
    {
      "cell_type": "markdown",
      "source": [
        "# Steps for Querying Data Using Google Trends"
      ],
      "metadata": {
        "id": "mb_QMbPeWmRn"
      }
    },
    {
      "cell_type": "markdown",
      "source": [
        "## 1. Enter search term into Google Trends"
      ],
      "metadata": {
        "id": "GR2r2PbdX9d8"
      }
    },
    {
      "cell_type": "markdown",
      "source": [
        "Navigate to [Google Trends](https://trends.google.com/trends/?geo=HR) and enter the term \"Entrepreneur\" into the search bar."
      ],
      "metadata": {
        "id": "sD_a5BKnYMPE"
      }
    },
    {
      "cell_type": "markdown",
      "source": [
        "### 1.1 Filter Data"
      ],
      "metadata": {
        "id": "J9lkIL5LYcf-"
      }
    },
    {
      "cell_type": "markdown",
      "source": [
        "Adjust the location to be worldwide and the time to be 2004-February 2023."
      ],
      "metadata": {
        "id": "2jRPC-kqYe3t"
      }
    },
    {
      "cell_type": "markdown",
      "source": [
        "## 2. Download Data"
      ],
      "metadata": {
        "id": "l29ipHdxYs4G"
      }
    },
    {
      "cell_type": "markdown",
      "source": [
        "In the top right corner above the graph click the download button to get a CSV of the data and upload it into your Queried_Data folder."
      ],
      "metadata": {
        "id": "qbFnK78MYunr"
      }
    }
  ]
}