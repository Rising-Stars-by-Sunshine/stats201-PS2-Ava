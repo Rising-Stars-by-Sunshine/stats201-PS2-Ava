{
  "nbformat": 4,
  "nbformat_minor": 0,
  "metadata": {
    "colab": {
      "provenance": []
    },
    "kernelspec": {
      "name": "python3",
      "display_name": "Python 3"
    },
    "language_info": {
      "name": "python"
    }
  },
  "cells": [
    {
      "cell_type": "markdown",
      "source": [
        "# Steps for Querying Data Using Google Trends"
      ],
      "metadata": {
        "id": "mb_QMbPeWmRn"
      }
    },
    {
      "cell_type": "markdown",
      "source": [
        "## 1. Enter search term into Google Trends"
      ],
      "metadata": {
        "id": "GR2r2PbdX9d8"
      }
    },
    {
      "cell_type": "markdown",
      "source": [
        "Navigate to [Google Trends](https://trends.google.com/trends/?geo=HR) and enter the term \"Entrepreneur\" into the search bar."
      ],
      "metadata": {
        "id": "sD_a5BKnYMPE"
      }
    },
    {
      "cell_type": "markdown",
      "source": [
        "### 1.1 Filter Data"
      ],
      "metadata": {
        "id": "J9lkIL5LYcf-"
      }
    },
    {
      "cell_type": "markdown",
      "source": [
        "Adjust the location to be worldwide and the time to be 2004-February 2023."
      ],
      "metadata": {
        "id": "2jRPC-kqYe3t"
      }
    },
    {
      "cell_type": "markdown",
      "source": [
        "## 2. Export"
      ],
      "metadata": {
        "id": "l29ipHdxYs4G"
      }
    },
    {
      "cell_type": "markdown",
      "source": [
        "### 2.1 Download Data"
      ],
      "metadata": {
        "id": "J9lkIL5LYcf-"
      }
    },
    {
      "cell_type": "markdown",
      "source": [
        "In the top right corner above the graph click the download button to get a CSV of the data."
      ],
      "metadata": {
        "id": "2jRPC-kqYe3t"
      }
    },
    {
      "cell_type": "markdown",
      "source": [
        "### 2.2 Upload Data"
      ],
      "metadata": {
        "id": "J9lkIL5LYcf-"
      }
    },
    {
      "cell_type": "markdown",
      "source": [
        "Upload the CSV file into your Queried_Data folder under the name 'interestOverTime.csv'."
      ],
      "metadata": {
        "id": "2jRPC-kqYe3t"
      }
    }
    
  ]
}
